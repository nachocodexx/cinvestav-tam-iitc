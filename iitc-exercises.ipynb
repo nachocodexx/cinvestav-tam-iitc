{
 "cells": [
  {
   "cell_type": "markdown",
   "metadata": {},
   "source": [
    "# Ejercicios impares 1.2 (pag. 29)"
   ]
  },
  {
   "cell_type": "markdown",
   "metadata": {},
   "source": [
    "### Ejercicio (1)"
   ]
  },
  {
   "cell_type": "markdown",
   "metadata": {},
   "source": [
    "\\begin{equation}\n",
    "(-\\frac{2}{3})^4\n",
    "=\\frac{(-2)^4}{3^4}\n",
    "=\\frac{16}{81} \\dot{.\\hspace{.095in}.}\n",
    "\\end{equation}"
   ]
  },
  {
   "cell_type": "markdown",
   "metadata": {},
   "source": [
    "### Ejercicio(3)"
   ]
  },
  {
   "cell_type": "markdown",
   "metadata": {},
   "source": [
    "\\begin{equation}\n",
    "\\frac{2^{-3}}{3^{-2}}\n",
    "=\\frac{{\\frac{1}{2^3}}}{{\\frac{1}{3^2}}}\n",
    "=\\frac{3^2}{2^3}\n",
    "=\\frac{9}{8}\\dot{.\\hspace{.095in}.}\n",
    "\\end{equation}"
   ]
  },
  {
   "cell_type": "markdown",
   "metadata": {},
   "source": [
    "### Ejercicio(5)"
   ]
  },
  {
   "cell_type": "markdown",
   "metadata": {},
   "source": [
    "\\begin{equation}\n",
    "(-2)^4+3^{-1}\n",
    "=16 + {\\frac{1}{3}}\n",
    "= \\frac{(3)16}{3} + \\frac{1}{3}\n",
    "= \\frac{((3)16)+1}{3}\n",
    "=\\frac{49}{3}\\dot{.\\hspace{.095in}.}\n",
    "\\end{equation}"
   ]
  },
  {
   "cell_type": "markdown",
   "metadata": {},
   "source": [
    "### Ejercicio(7)"
   ]
  },
  {
   "cell_type": "markdown",
   "metadata": {},
   "source": [
    "\\begin{equation}\n",
    "16^{-\\frac{3}{4}}\n",
    "= \\sqrt[4]{16^{-3}}\n",
    "= \\sqrt[4]{\\frac{1}{16^3}}\n",
    "\\end{equation}"
   ]
  },
  {
   "cell_type": "markdown",
   "metadata": {},
   "source": [
    "### Ejercicio(9)"
   ]
  },
  {
   "cell_type": "markdown",
   "metadata": {},
   "source": [
    "\\begin{equation}\n",
    "(-0.008)^{\\frac{2}{3}}\n",
    "\\end{equation}"
   ]
  },
  {
   "cell_type": "markdown",
   "metadata": {},
   "source": [
    "### Ejercicio(11)"
   ]
  },
  {
   "cell_type": "markdown",
   "metadata": {},
   "source": [
    "\\begin{equation}\n",
    "(\\frac{1}{2}x^4)(16x^5)\n",
    "=\\frac{16(x^4)(x^5)}{2}\n",
    "=\\frac{16x^9}{2}\n",
    "= 8x^9\n",
    "\\end{equation}"
   ]
  },
  {
   "cell_type": "markdown",
   "metadata": {},
   "source": [
    "### Ejercicio(13)"
   ]
  },
  {
   "cell_type": "markdown",
   "metadata": {},
   "source": [
    "\\begin{equation}\n",
    "\\frac{(2x^3)(3x^2)}{(x^2)^3}\n",
    "=\\frac{6x^5}{x^6}\n",
    "=6x^{-1}\n",
    "=\\frac{6}{x}\n",
    "\\end{equation}"
   ]
  },
  {
   "cell_type": "markdown",
   "metadata": {},
   "source": [
    "### Ejercicio(15)"
   ]
  },
  {
   "cell_type": "markdown",
   "metadata": {},
   "source": [
    "\\begin{equation}\n",
    "(\\frac{a^5}{6})(-3a^2)(4a^7)\n",
    "=\\frac{(-3)(4)(a^5)(a^2)(a^7)}{6}\n",
    "=-\\frac{4a^{14}}{2}\n",
    "=-2a^{14}\n",
    "\\end{equation}"
   ]
  },
  {
   "cell_type": "markdown",
   "metadata": {},
   "source": [
    "### Ejercicio(17)"
   ]
  },
  {
   "cell_type": "markdown",
   "metadata": {},
   "source": [
    "\\begin{equation}\n",
    "(\\frac{(6x^3)^2}{(2x^2)^3})(3x^2)^0\n",
    "=\\frac{(6x^3)^2}{(2x^2)^3}\n",
    "=\\frac{6x^6}{2x^6}\n",
    "=3\n",
    "\\end{equation}"
   ]
  },
  {
   "cell_type": "markdown",
   "metadata": {},
   "source": [
    "### Ejercicio(19)"
   ]
  },
  {
   "cell_type": "markdown",
   "metadata": {},
   "source": [
    "\\begin{equation}\n",
    "(3u^7v^3)(4u^4v^{-5})\n",
    "=(3\\cdot4)(u^7 u^4)(v^3 v^{-5})\n",
    "= 12u^{11}v^{-2}\n",
    "=\\frac{12u^{11}}{v^2}\n",
    "\\end{equation}"
   ]
  },
  {
   "cell_type": "markdown",
   "metadata": {},
   "source": [
    "### Ejercicio(21)"
   ]
  },
  {
   "cell_type": "markdown",
   "metadata": {},
   "source": [
    "\\begin{equation}\n",
    "(8x^4y^{-3})(\\frac{x^{-5}y^2}{2})\n",
    "= \\frac{(8x^4y^{-3})(x^{-5}y^2)}{2}\n",
    "=\\frac{8}{2}(x^{-5}x^4)(y^{-3}y^2)\n",
    "=4x^{-1}y^{-1}\n",
    "=\\frac{4}{xy}\n",
    "\\end{equation}"
   ]
  },
  {
   "cell_type": "markdown",
   "metadata": {},
   "source": [
    "### Ejercicio(23)"
   ]
  },
  {
   "cell_type": "markdown",
   "metadata": {},
   "source": [
    "\\begin{equation}\n",
    "(\\frac{1}{3}x^4y^{-3})^{-2}\n",
    "=\\frac{1}{(\\frac{1}{3}x^4y^{-3})^{2}}\n",
    "=\\frac{1}{(\\frac{x^4}{3y^{3}})^{2}}\n",
    "=\\frac{1}{\\frac{x^8}{9y^{9}}}\n",
    "\\end{equation}"
   ]
  },
  {
   "cell_type": "markdown",
   "metadata": {},
   "source": [
    "### Ejercicio(25)"
   ]
  },
  {
   "cell_type": "markdown",
   "metadata": {},
   "source": [
    "\\begin{equation}\n",
    "(3y^3)^4(4y^2)^{-1}\n",
    "=\\frac{81y^{81}}{4y^2}\n",
    "=\\frac{81}{4}y^{79}\n",
    "\\end{equation}"
   ]
  },
  {
   "cell_type": "markdown",
   "metadata": {},
   "source": [
    "### Ejercicio(27)"
   ]
  },
  {
   "cell_type": "markdown",
   "metadata": {},
   "source": [
    "\\begin{equation}\n",
    "(-2r^4s^{-3})^{-2}\n",
    "=\\frac{1}{(-2r^4s^{-3})^{2}}\n",
    "=\\frac{1}{( \\frac{-2r^4}{s^3} )^2}\n",
    "=\\frac{1}{\\frac{(-2r^4)^2}{(s^3)^2} }\n",
    "=\\frac{1}{\\frac{16r^8}{s^6} }\n",
    "=\\frac{s^6}{16r^8}\n",
    "\\end{equation}"
   ]
  },
  {
   "cell_type": "markdown",
   "metadata": {},
   "source": [
    "### Ejercicio(29)"
   ]
  },
  {
   "cell_type": "markdown",
   "metadata": {},
   "source": [
    "\\begin{equation}\n",
    "(5x^2 y ^{-3})(4x^{-5} y^4)\n",
    "= (5\\cdot4)(x^2 x^{-5})(y^{-3} y^4)\n",
    "=\\frac{20y}{x^3}\n",
    "\\end{equation}"
   ]
  },
  {
   "cell_type": "markdown",
   "metadata": {},
   "source": [
    "### Ejercicio(31)"
   ]
  },
  {
   "cell_type": "markdown",
   "metadata": {},
   "source": [
    "\\begin{equation}\n",
    "(\\frac{3x^5 y^4}{x^0 y^{-3}})^2\n",
    "=(\\frac{3x^5 y^4}{y^{-3}})^2\n",
    "=\\frac{(3x^5 y^4)^2}{(y^{-3})^2}\n",
    "=\\frac{9x^{10} y^8}{y^{-6}}\n",
    "= 9x^{10} y^{14}\n",
    "\\end{equation}"
   ]
  },
  {
   "cell_type": "markdown",
   "metadata": {},
   "source": [
    "### Ejercicio(33)"
   ]
  },
  {
   "cell_type": "markdown",
   "metadata": {},
   "source": [
    "\\begin{equation}\n",
    "(4a^{\\frac{3}{2}})(2a^{\\frac{1}{2}})\n",
    "= (4\\cdot2)(a^{\\frac{3}{2}} a^{\\frac{1}{2}})\n",
    "=8a^2\n",
    "\\end{equation}"
   ]
  },
  {
   "cell_type": "markdown",
   "metadata": {},
   "source": [
    "### Ejercicio(35)"
   ]
  },
  {
   "cell_type": "markdown",
   "metadata": {},
   "source": [
    "\\begin{equation}\n",
    "(3x^{\\frac{5}{6}})(8x^{\\frac{2}{3}})\n",
    "=(3\\cdot8)(x^{\\frac{5}{6}} x^{\\frac{2}{3}})\n",
    "= 24 x^{\\frac{3}{2}}\n",
    "\\end{equation}"
   ]
  },
  {
   "cell_type": "markdown",
   "metadata": {},
   "source": [
    "### Ejercicio(37)"
   ]
  },
  {
   "cell_type": "markdown",
   "metadata": {},
   "source": [
    "\\begin{equation}\n",
    "(27a^6)^{-\\frac{2}{3}}\n",
    "= (27^{-\\frac{2}{3}})(a^{-6\\cdot{\\frac{2}{3}}})\n",
    "= (27^{-\\frac{2}{3}})(a^{-4})\n",
    "=\\sqrt[3]{27^{-2}}\\cdot {\\frac{1}{a^4}}\n",
    "=\\frac{\\sqrt[3]{27^{-2}}}{a^4}\n",
    "=\\frac{\\sqrt[3]{ \\frac{1}{27^2} }}{a^4}\n",
    "=\\frac{\\sqrt[3]{ \\frac{1}{27\\cdot27} }}{a^4}\n",
    "=\\frac{ \\frac{1}{\\sqrt[3]{27}\\cdot\\sqrt[3]{27}}}{a^4}\n",
    "=\\frac{ \\frac{1}{3\\cdot3}}{a^4}\n",
    "=\\frac{ \\frac{1}{9}}{a^4}\n",
    "=\\frac{1}{9a^4}\n",
    "\\end{equation}"
   ]
  },
  {
   "cell_type": "markdown",
   "metadata": {},
   "source": [
    "### Ejercicio(39)"
   ]
  },
  {
   "cell_type": "markdown",
   "metadata": {},
   "source": [
    "\\begin{equation}\n",
    "(8x^{-\\frac{2}{3}})x^{\\frac{1}{6}}\n",
    "=8x^{-\\frac{2}{3}} x^{\\frac{1}{6}}\n",
    "=8x^{-\\frac{4}{6}} x^{\\frac{1}{6}}\n",
    "=8x^{-\\frac{3}{6}}\n",
    "\\end{equation}"
   ]
  },
  {
   "cell_type": "markdown",
   "metadata": {},
   "source": [
    "### Ejercicio(41)"
   ]
  },
  {
   "cell_type": "markdown",
   "metadata": {},
   "source": [
    "\\begin{equation}\n",
    "(\\frac{-8x^3}{y^{-6}})^{\\frac{2}{3}}\n",
    "= \\frac{(-8x^3)^{\\frac{2}{3}}}{(y^{-6})^{\\frac{2}{3}}}\n",
    "= \\frac{((-8)^{\\frac{2}{3}} (x^3)^{\\frac{2}{3}})  }{(y^{-6})^{\\frac{2}{3}}}\n",
    "= \\frac{ \\sqrt[3]{(-8)^2}  x^2  }{y^{-4}}\n",
    "= \\frac{ \\sqrt[3]{(-8)^2}  x^2  }{\\frac{1}{y^4}}\n",
    "=\\sqrt[3]{(-8)^2}  x^2 y^4\n",
    "=\\sqrt[3]{64}  x^2 y^4\n",
    "=4x^2 y^4\n",
    "\\end{equation}"
   ]
  },
  {
   "cell_type": "markdown",
   "metadata": {},
   "source": [
    "### Ejercicio(43)"
   ]
  },
  {
   "cell_type": "markdown",
   "metadata": {},
   "source": [
    "\\begin{equation}\n",
    "(\\frac{x^6}{9y^{-4}})^{-\\frac{1}{2}}\n",
    "=\\frac{1}{(\\frac{x^6}{9y^{-4}})^{\\frac{1}{2}}}\n",
    "=\\frac{1}{\\frac{ (x^6)^{ \\frac{1}{2}} }{ (9y^{-4})^{ \\frac{1}{2}} }}\n",
    "=\\frac{1}{\\frac{x^3}{ 9y^{-2} } }\n",
    "=\\frac{1}{\\frac{x^3}{ (\\frac{9}{y^2}) } }\n",
    "=\\frac{ 1 }{ \\frac{y^2 x^3} {  9 }  }\n",
    "=\\frac{ 9 }{ y^2 x^3  }\n",
    "\\end{equation}"
   ]
  },
  {
   "cell_type": "markdown",
   "metadata": {},
   "source": [
    "### Ejercicio(45)"
   ]
  },
  {
   "cell_type": "markdown",
   "metadata": {},
   "source": [
    "\\begin{equation}\n",
    "\\frac{(x^6 y^3)^{-\\frac{1}{3}}}{(x^4 y^2)^{-\\frac{1}{2}}}\n",
    "=\\frac{  \\frac{1}{ (x^6 y^3)^{\\frac{1}{3} } } }  {  \\frac{1}{(x^4 y^2)^{\\frac{1}{2} } } }\n",
    "=\\frac{ \\frac{ 1 }{ x^2 y } }{ \\frac{ 1 }{ x^2 y } }\n",
    "=1\n",
    "\\end{equation} "
   ]
  },
  {
   "cell_type": "markdown",
   "metadata": {},
   "source": [
    "### Ejercicio(47)"
   ]
  },
  {
   "cell_type": "markdown",
   "metadata": {},
   "source": [
    "\\begin{equation}\n",
    "\\sqrt[4]{x^3}\n",
    "=x^{\\frac{3}{4}}\n",
    "\\end{equation}"
   ]
  },
  {
   "cell_type": "markdown",
   "metadata": {},
   "source": [
    "### Ejercicio(49)"
   ]
  },
  {
   "cell_type": "markdown",
   "metadata": {},
   "source": [
    "\\begin{equation}\n",
    "\\sqrt[3]{(a+b)^2}\n",
    "=(a+b)^{\\frac{2}{3}}\n",
    "\\end{equation}"
   ]
  },
  {
   "cell_type": "markdown",
   "metadata": {},
   "source": [
    "### Ejercicio(51)"
   ]
  },
  {
   "cell_type": "markdown",
   "metadata": {},
   "source": [
    "\\begin{equation}\n",
    "\\sqrt{x^2 + y^2}\n",
    "=(x^2 + y^2)^{\\frac{1}{2}}\n",
    "\\end{equation}"
   ]
  },
  {
   "cell_type": "markdown",
   "metadata": {},
   "source": [
    "### Ejercicio(53)"
   ]
  },
  {
   "cell_type": "markdown",
   "metadata": {},
   "source": [
    "\\begin{equation}\n",
    "4x^{\\frac{3}{2}}\n",
    "=4\\sqrt{x^3}\n",
    "\\end{equation}"
   ]
  },
  {
   "cell_type": "markdown",
   "metadata": {},
   "source": [
    "### Ejercicio(55)"
   ]
  },
  {
   "cell_type": "markdown",
   "metadata": {},
   "source": [
    "\\begin{equation}\n",
    "8-y^{\\frac{1}{3}}\n",
    "=8 - \\sqrt[3]{y}\n",
    "\\end{equation}"
   ]
  },
  {
   "cell_type": "markdown",
   "metadata": {},
   "source": [
    "### Ejercicio(57)"
   ]
  },
  {
   "cell_type": "markdown",
   "metadata": {},
   "source": [
    "\\begin{equation}\n",
    "\\sqrt{81}\n",
    "=9\n",
    "\\end{equation}"
   ]
  },
  {
   "cell_type": "markdown",
   "metadata": {},
   "source": [
    "### Ejercicio(59)"
   ]
  },
  {
   "cell_type": "markdown",
   "metadata": {},
   "source": [
    "\\begin{equation}\n",
    "\\sqrt[5]{-64}\n",
    "=\\sqrt[5]{(-1)(2)2^5}\n",
    "=\\sqrt[5]{2^5}\\sqrt[5]{-2}\n",
    "=2\\sqrt[5]{-2}\n",
    "\\end{equation}"
   ]
  },
  {
   "cell_type": "markdown",
   "metadata": {},
   "source": [
    "### Ejercicio(61)"
   ]
  },
  {
   "cell_type": "markdown",
   "metadata": {},
   "source": [
    "\\begin{equation}\n",
    "\\frac{1}{\\sqrt[3]{2}}\n",
    "=\\frac{1}{\\sqrt[3]{2}} \\cdot \\frac{(\\sqrt[3]{2}) ^ 2}{(\\sqrt[3]{2})^2}\n",
    "=\\frac{1}{2^{\\frac{1}{3}}} \\cdot \\frac{2^{\\frac{2}{3}}}{2^{\\frac{2}{3}}}\n",
    "=\\frac{\\sqrt[3]{4}}{2}\n",
    "\\end{equation}"
   ]
  },
  {
   "cell_type": "markdown",
   "metadata": {},
   "source": [
    "# Ejercicios impares 1.3 (pag. 43)"
   ]
  },
  {
   "cell_type": "markdown",
   "metadata": {},
   "source": [
    "### Ejercicio(1)"
   ]
  },
  {
   "cell_type": "markdown",
   "metadata": {},
   "source": [
    "\\begin{align}\n",
    "(3x^3 + 4x^2  - 7x + 1)+(9x^3 - 4x^2 - 6x)\n",
    "\\\\=(3x^3 + 9x^3 ) + (4x^2 - 4x^2) + (-7x - 6x) + 1\n",
    "\\\\=(12x^3) + (0x^2) - 13x + 1\n",
    "\\\\=12x^3- 13x + 1\n",
    "\\end{align}"
   ]
  },
  {
   "cell_type": "markdown",
   "metadata": {},
   "source": [
    "### Ejercicio(3)"
   ]
  },
  {
   "cell_type": "markdown",
   "metadata": {},
   "source": [
    "\\begin{align}\n",
    "(7x^3 + 2x^2  - 11x )+(-3x^3 - 2x^2 - 5x - 3)\n",
    "\\\\=(7x^3-3x^3) + (2x^2- 2x^2 )+ (-11x- 5x) + (-3)\n",
    "\\\\=(4x^3) + (0x^2 )+ (-16x) -3\n",
    "\\\\=4x^3 -16x -3\n",
    "\\end{align}"
   ]
  },
  {
   "cell_type": "markdown",
   "metadata": {},
   "source": [
    "### Ejercicio(5)"
   ]
  },
  {
   "cell_type": "markdown",
   "metadata": {},
   "source": [
    "\\begin{align}\n",
    " (2x+5)(3x-7)\n",
    " \\\\=3x(2x+5)-7(2x+5)\n",
    " \\\\=6x^2+15x-14x-35\n",
    " \\\\=6x^2+x-35\n",
    "\\end{align}"
   ]
  },
  {
   "cell_type": "markdown",
   "metadata": {},
   "source": [
    "### Ejercicio(7)"
   ]
  },
  {
   "cell_type": "markdown",
   "metadata": {},
   "source": [
    "\\begin{align}\n",
    "  (5x+7y)(3x+2y)\n",
    "  \\\\=3x(5x+7y)+2y(5x+7y)\n",
    "  \\\\=15x^2+21xy+10xy+14y^2\n",
    "  \\\\=15x^2+31xy+14y^2\n",
    "\\end{align}"
   ]
  },
  {
   "cell_type": "markdown",
   "metadata": {},
   "source": [
    "### Ejercicio(9)"
   ]
  },
  {
   "cell_type": "markdown",
   "metadata": {},
   "source": [
    "\\begin{align}\n",
    "(2u+3)(u-4)+ 4u (u-2)\n",
    "\\\\=u(2u+3)-4(2u+3)+4u^2-8u\n",
    "\\\\=2u^2+3u-8u-12+4u^2-8u\n",
    "\\\\=(2u^2 + 4u^2 )+( 3u - 8u -8u)-12\n",
    "\\\\=6u^2-13u-12\n",
    "\\end{align}"
   ]
  },
  {
   "cell_type": "markdown",
   "metadata": {},
   "source": [
    "### Ejercicio(11)"
   ]
  },
  {
   "cell_type": "markdown",
   "metadata": {},
   "source": [
    "\\begin{align}\n",
    "(3x+5)(2x^2+9x-5)\n",
    "\\\\=2x^2(3x+5)+9x(3x+5)-5(3x+5)\n",
    "\\\\=(6x^3+10x^2)+(27x^2+45x)+(-15x-25)\n",
    "\\\\=6x^3+( 27x^2+ 10x^2)+(45x-15x) - 25 \n",
    "\\\\=6x^3+37x^2+30x - 25\n",
    "\\end{align}"
   ]
  },
  {
   "cell_type": "markdown",
   "metadata": {},
   "source": [
    "### Ejercicio(13)"
   ]
  },
  {
   "cell_type": "markdown",
   "metadata": {},
   "source": [
    "\\begin{align}\n",
    "( t^2 + 2t -5)( 3t^2 -t +2)\n",
    "\\\\= 3t^2 ( t^2 + 2t -5) -t ( t^2 + 2t -5) + 2 ( t^2 + 2t -5)\n",
    "\\\\= (3t^4 + 6t^3 -15t^2) +( -t^3 - 2t^2 +5t) + ( 2t^2 + 4t -10)\n",
    "\\\\= 3t^4 + (6t^3 -t^3) +( 2t^2- 2t^2-15t^2) +( 5t+ 4t) -10\n",
    "\\\\= 3t^4 + 5t^3 -15t^2 + 9t -10\n",
    "\\end{align}"
   ]
  },
  {
   "cell_type": "markdown",
   "metadata": {},
   "source": [
    "### Ejercicio(15)"
   ]
  },
  {
   "cell_type": "markdown",
   "metadata": {},
   "source": [
    "\\begin{align}\n",
    "( x + 1 )( 2x^2 - 2 )( x^3 + 5 )\\\n",
    "\\\\=( x + 1 )[ x^3 ( 2x^2 -2 ) + 5( 2x^2 -2 ) ]\n",
    "\\\\=( x + 1 )[( 2x^5 -2x^3 ) + ( 10x^2 -10 ) ]\n",
    "\\\\=( x + 1 )( 2x^5 -2x^3 ) + ( x + 1 )( 10x^2 -10 ) \n",
    "\\\\=( x ( 2x^5 -2x^3 ) + ( 2x^5 -2x^3 ) )+ ( x ( 10x^2 -10 ) + ( 10x^2 -10 ) ) \n",
    "\\\\=(  2x^6 -2x^4 ) + ( 2x^5 -2x^3 )  )+ ( ( 10x^3 -10x ) + ( 10x^2 -10 ) ) \n",
    "\\\\= 2x^6 + 2x^5 - 2x^4  + ( 10x^3 - 2x^3 )+ 10x^2 - 10x  -10   \n",
    "\\\\= 2x^6 + 2x^5 - 2x^4  +  8x^3 + 10x^2 - 10x  -10   \n",
    "\\end{align}"
   ]
  },
  {
   "cell_type": "markdown",
   "metadata": {},
   "source": [
    "### Ejercicio(17)"
   ]
  },
  {
   "cell_type": "markdown",
   "metadata": {},
   "source": [
    "\\begin{align}\n",
    " \\frac{ 8x^2 y^3 - 10x^3 y }{ 2x^2 y }\n",
    " \\\\=\\frac{ 8x^2 y^3 }{ 2x^2 y } - \\frac{ 10x^3 y } { 2x^2 y  }\n",
    " \\\\= 4y^2 - 5x\n",
    "\\end{align}"
   ]
  },
  {
   "cell_type": "markdown",
   "metadata": {},
   "source": [
    "### Ejercicio(21)"
   ]
  },
  {
   "cell_type": "markdown",
   "metadata": {},
   "source": [
    "\\begin{align}\n",
    " ( 2x + 3y)( 2x - 3y )\n",
    " \\\\= 2x( 2x + 3y ) - 3y ( 2x + 3y )\n",
    " \\\\= ( 4x^2  + 6xy ) + ( - 6xy - 9y^2 )\n",
    " \\\\=  4x^2  + 6xy - 6xy - 9y^2 \n",
    " \\\\=  4x^2 - 9y^2 \n",
    "\\end{align}"
   ]
  },
  {
   "cell_type": "markdown",
   "metadata": {},
   "source": [
    "### Ejercicio(23)\n",
    "\\begin{align}\n",
    "( x^2  + 2y )( x^2 - 2y)\n",
    "\\\\=x^2( x^2  + 2y ) - 2y( x^2  + 2y )\n",
    "\\\\= ( x^4  + 2x^2y ) + ( 2yx^2  + 4y^2 )\n",
    "\\\\= x^4  + 2x^2y + 2yx^2  + 4y^2\n",
    "\\\\= x^4  + 4x^2y  + 4y^2\n",
    "\\end{align}"
   ]
  },
  {
   "cell_type": "markdown",
   "metadata": {},
   "source": [
    "### Ejercicio(25)\n",
    "\\begin{align}\n",
    " ( x^2 + 9 ) ( x^2 - 4)\n",
    " \\\\= x^2( x^2 + 9 ) - 4( x^2 + 9)\n",
    " \\\\= ( x^4 + 9x^2 ) + ( 4x^2 + 36 )\n",
    " \\\\=   x^4 + 9x^2  +  4x^2 + 36 \n",
    " \\\\=   x^4 + 13x^2 + 36 \n",
    "\\end{align}"
   ]
  },
  {
   "cell_type": "markdown",
   "metadata": {},
   "source": [
    "### Ejercicio(27)\n",
    "\\begin{align}\n",
    "(3x + 2y)^2\n",
    "\\\\= 9x^2 + 12xy + 2y^2\n",
    "\\end{align}"
   ]
  },
  {
   "cell_type": "markdown",
   "metadata": {},
   "source": [
    "### Ejercicio(29)\n",
    "\\begin{align}\n",
    "( x^2 - 3y^2 ) ^2\n",
    "\\\\= x^4 - 6x^2y^2 + 9y^4\n",
    "\\end{align}"
   ]
  },
  {
   "cell_type": "markdown",
   "metadata": {},
   "source": [
    "### Ejercicio()\n",
    "\\begin{align}\n",
    "\\end{align}"
   ]
  },
  {
   "cell_type": "markdown",
   "metadata": {},
   "source": [
    "### Ejercicio()\n",
    "\\begin{align}\n",
    "\\end{align}"
   ]
  },
  {
   "cell_type": "markdown",
   "metadata": {},
   "source": [
    "### Ejercicio()\n",
    "\\begin{align}\n",
    "\\end{align}"
   ]
  },
  {
   "cell_type": "markdown",
   "metadata": {},
   "source": [
    "### Ejercicio()\n",
    "\\begin{align}\n",
    "\\end{align}"
   ]
  },
  {
   "cell_type": "markdown",
   "metadata": {},
   "source": [
    "### Ejercicio()\n",
    "\\begin{align}\n",
    "\\end{align}"
   ]
  },
  {
   "cell_type": "markdown",
   "metadata": {},
   "source": [
    "### Ejercicio()\n",
    "\\begin{align}\n",
    "\\end{align}"
   ]
  },
  {
   "cell_type": "markdown",
   "metadata": {},
   "source": [
    "### Ejercicio()\n",
    "\\begin{align}\n",
    "\\end{align}"
   ]
  },
  {
   "cell_type": "markdown",
   "metadata": {},
   "source": [
    "### Ejercicio()\n",
    "\\begin{align}\n",
    "\\end{align}"
   ]
  },
  {
   "cell_type": "markdown",
   "metadata": {},
   "source": [
    "### Ejercicio()\n",
    "\\begin{align}\n",
    "\\end{align}"
   ]
  },
  {
   "cell_type": "markdown",
   "metadata": {},
   "source": [
    "### Ejercicio()\n",
    "\\begin{align}\n",
    "\\end{align}"
   ]
  },
  {
   "cell_type": "markdown",
   "metadata": {},
   "source": [
    "### Ejercicio()\n",
    "\\begin{align}\n",
    "\\end{align}"
   ]
  },
  {
   "cell_type": "markdown",
   "metadata": {},
   "source": [
    "### Ejercicio()\n",
    "\\begin{align}\n",
    "\\end{align}"
   ]
  },
  {
   "cell_type": "markdown",
   "metadata": {},
   "source": [
    "### Ejercicio()\n",
    "\\begin{align}\n",
    "\\end{align}"
   ]
  },
  {
   "cell_type": "markdown",
   "metadata": {},
   "source": [
    "### Ejercicio()\n",
    "\\begin{align}\n",
    "\\end{align}"
   ]
  },
  {
   "cell_type": "markdown",
   "metadata": {},
   "source": [
    "### Ejercicio()\n",
    "\\begin{align}\n",
    "\\end{align}"
   ]
  },
  {
   "cell_type": "markdown",
   "metadata": {},
   "source": [
    "### Ejercicio()\n",
    "\\begin{align}\n",
    "\\end{align}"
   ]
  },
  {
   "cell_type": "markdown",
   "metadata": {},
   "source": [
    "### Ejercicio()\n",
    "\\begin{align}\n",
    "\\end{align}"
   ]
  },
  {
   "cell_type": "markdown",
   "metadata": {},
   "source": [
    "### Ejercicio()\n",
    "\\begin{align}\n",
    "\\end{align}"
   ]
  },
  {
   "cell_type": "markdown",
   "metadata": {},
   "source": [
    "### Ejercicio()\n",
    "\\begin{align}\n",
    "\\end{align}"
   ]
  },
  {
   "cell_type": "markdown",
   "metadata": {},
   "source": [
    "### Ejercicio()\n",
    "\\begin{align}\n",
    "\\end{align}"
   ]
  },
  {
   "cell_type": "markdown",
   "metadata": {},
   "source": [
    "### Ejercicio()\n",
    "\\begin{align}\n",
    "\\end{align}"
   ]
  },
  {
   "cell_type": "markdown",
   "metadata": {},
   "source": [
    "### Ejercicio()\n",
    "\\begin{align}\n",
    "\\end{align}"
   ]
  },
  {
   "cell_type": "markdown",
   "metadata": {},
   "source": [
    "### Ejercicio()\n",
    "\\begin{align}\n",
    "\\end{align}"
   ]
  },
  {
   "cell_type": "markdown",
   "metadata": {},
   "source": [
    "### Ejercicio()\n",
    "\\begin{align}\n",
    "\\end{align}"
   ]
  },
  {
   "cell_type": "markdown",
   "metadata": {},
   "source": [
    "### Ejercicio()\n",
    "\\begin{align}\n",
    "\\end{align}"
   ]
  }
 ],
 "metadata": {
  "kernelspec": {
   "display_name": "Python 3",
   "language": "python",
   "name": "python3"
  },
  "language_info": {
   "codemirror_mode": {
    "name": "ipython",
    "version": 3
   },
   "file_extension": ".py",
   "mimetype": "text/x-python",
   "name": "python",
   "nbconvert_exporter": "python",
   "pygments_lexer": "ipython3",
   "version": "3.6.9"
  }
 },
 "nbformat": 4,
 "nbformat_minor": 4
}
